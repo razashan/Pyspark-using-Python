{
 "cells": [
  {
   "cell_type": "markdown",
   "id": "2e4a0a50",
   "metadata": {},
   "source": [
    "# Topics"
   ]
  },
  {
   "cell_type": "markdown",
   "id": "ae7afd39",
   "metadata": {},
   "source": [
    "* PySpark DataFrame\n",
    "* Reading the Dataset\n",
    "* Checking the Datatypes of the Column(Schema)\n",
    "* Selecting Columns and Indexing\n",
    "* Check Describe Option Similar to Pandas\n",
    "* Adding Column\n",
    "* Dropping Columns"
   ]
  },
  {
   "cell_type": "code",
   "execution_count": 1,
   "id": "bbcc22e4",
   "metadata": {},
   "outputs": [],
   "source": [
    "import pyspark"
   ]
  },
  {
   "cell_type": "code",
   "execution_count": 2,
   "id": "b0a6d9df",
   "metadata": {},
   "outputs": [],
   "source": [
    "import pandas as pd"
   ]
  },
  {
   "cell_type": "code",
   "execution_count": 3,
   "id": "73fa0d09",
   "metadata": {},
   "outputs": [],
   "source": [
    "from pyspark.sql import SparkSession"
   ]
  },
  {
   "cell_type": "code",
   "execution_count": 4,
   "id": "8152acc5",
   "metadata": {},
   "outputs": [],
   "source": [
    "spark = SparkSession.builder.appName('DataFrame').getOrCreate()"
   ]
  },
  {
   "cell_type": "code",
   "execution_count": 33,
   "id": "04d408f9",
   "metadata": {},
   "outputs": [],
   "source": [
    "df_spark = spark.read.option('header','true').csv('Data/file (1).csv',inferSchema=True)"
   ]
  },
  {
   "cell_type": "code",
   "execution_count": 34,
   "id": "8fb8e57e",
   "metadata": {},
   "outputs": [
    {
     "name": "stdout",
     "output_type": "stream",
     "text": [
      "root\n",
      " |-- Sales: double (nullable = true)\n",
      " |-- date: timestamp (nullable = true)\n",
      " |-- genre: string (nullable = true)\n",
      "\n"
     ]
    }
   ],
   "source": [
    "#check schema\n",
    "df_spark.printSchema()"
   ]
  },
  {
   "cell_type": "code",
   "execution_count": 35,
   "id": "96b3ad78",
   "metadata": {},
   "outputs": [],
   "source": [
    "df_pyspark = spark.read.csv('Data/file (1).csv',header=True,inferSchema=True)"
   ]
  },
  {
   "cell_type": "code",
   "execution_count": 36,
   "id": "ddc50446",
   "metadata": {},
   "outputs": [
    {
     "name": "stdout",
     "output_type": "stream",
     "text": [
      "+-----+-------------------+-----+\n",
      "|Sales|               date|genre|\n",
      "+-----+-------------------+-----+\n",
      "|16.83|2009-01-01 00:00:00| Rock|\n",
      "| 6.93|2009-02-01 00:00:00| Rock|\n",
      "| 8.91|2009-03-01 00:00:00| Rock|\n",
      "|21.78|2009-04-01 00:00:00| Rock|\n",
      "| 7.92|2009-05-01 00:00:00| Rock|\n",
      "|15.84|2009-06-01 00:00:00| Rock|\n",
      "|18.81|2009-07-01 00:00:00| Rock|\n",
      "| 19.8|2009-08-01 00:00:00| Rock|\n",
      "| 4.95|2009-09-01 00:00:00| Rock|\n",
      "| 19.8|2009-10-01 00:00:00| Rock|\n",
      "|18.81|2009-11-01 00:00:00| Rock|\n",
      "|17.82|2009-12-01 00:00:00| Rock|\n",
      "|  9.9|2010-01-01 00:00:00| Rock|\n",
      "|20.79|2010-02-01 00:00:00| Rock|\n",
      "| 4.95|2010-03-01 00:00:00| Rock|\n",
      "|13.86|2010-04-01 00:00:00| Rock|\n",
      "| 3.96|2010-05-01 00:00:00| Rock|\n",
      "|12.87|2010-06-01 00:00:00| Rock|\n",
      "|23.76|2010-07-01 00:00:00| Rock|\n",
      "| 6.93|2010-08-01 00:00:00| Rock|\n",
      "+-----+-------------------+-----+\n",
      "only showing top 20 rows\n",
      "\n"
     ]
    }
   ],
   "source": [
    "df_pyspark.show()"
   ]
  },
  {
   "cell_type": "code",
   "execution_count": 37,
   "id": "5dce3554",
   "metadata": {},
   "outputs": [
    {
     "name": "stdout",
     "output_type": "stream",
     "text": [
      "root\n",
      " |-- Sales: double (nullable = true)\n",
      " |-- date: timestamp (nullable = true)\n",
      " |-- genre: string (nullable = true)\n",
      "\n"
     ]
    }
   ],
   "source": [
    "df_pyspark.printSchema()"
   ]
  },
  {
   "cell_type": "code",
   "execution_count": 38,
   "id": "a6007ea7",
   "metadata": {},
   "outputs": [
    {
     "data": {
      "text/plain": [
       "pyspark.sql.dataframe.DataFrame"
      ]
     },
     "execution_count": 38,
     "metadata": {},
     "output_type": "execute_result"
    }
   ],
   "source": [
    "type(df_pyspark)"
   ]
  },
  {
   "cell_type": "code",
   "execution_count": 39,
   "id": "fed985d3",
   "metadata": {},
   "outputs": [
    {
     "data": {
      "text/plain": [
       "['Sales', 'date', 'genre']"
      ]
     },
     "execution_count": 39,
     "metadata": {},
     "output_type": "execute_result"
    }
   ],
   "source": [
    "df_pyspark.columns"
   ]
  },
  {
   "cell_type": "code",
   "execution_count": 40,
   "id": "103c71d3",
   "metadata": {},
   "outputs": [
    {
     "data": {
      "text/plain": [
       "[Row(Sales=16.83, date=datetime.datetime(2009, 1, 1, 0, 0), genre='Rock'),\n",
       " Row(Sales=6.93, date=datetime.datetime(2009, 2, 1, 0, 0), genre='Rock'),\n",
       " Row(Sales=8.91, date=datetime.datetime(2009, 3, 1, 0, 0), genre='Rock'),\n",
       " Row(Sales=21.78, date=datetime.datetime(2009, 4, 1, 0, 0), genre='Rock'),\n",
       " Row(Sales=7.92, date=datetime.datetime(2009, 4, 30, 23, 0), genre='Rock')]"
      ]
     },
     "execution_count": 40,
     "metadata": {},
     "output_type": "execute_result"
    }
   ],
   "source": [
    "df_pyspark.head(5)"
   ]
  },
  {
   "cell_type": "code",
   "execution_count": 41,
   "id": "0ad7eac5",
   "metadata": {},
   "outputs": [
    {
     "name": "stdout",
     "output_type": "stream",
     "text": [
      "+-----+-------------------+\n",
      "|Sales|               date|\n",
      "+-----+-------------------+\n",
      "|16.83|2009-01-01 00:00:00|\n",
      "| 6.93|2009-02-01 00:00:00|\n",
      "| 8.91|2009-03-01 00:00:00|\n",
      "|21.78|2009-04-01 00:00:00|\n",
      "| 7.92|2009-05-01 00:00:00|\n",
      "|15.84|2009-06-01 00:00:00|\n",
      "|18.81|2009-07-01 00:00:00|\n",
      "| 19.8|2009-08-01 00:00:00|\n",
      "| 4.95|2009-09-01 00:00:00|\n",
      "| 19.8|2009-10-01 00:00:00|\n",
      "|18.81|2009-11-01 00:00:00|\n",
      "|17.82|2009-12-01 00:00:00|\n",
      "|  9.9|2010-01-01 00:00:00|\n",
      "|20.79|2010-02-01 00:00:00|\n",
      "| 4.95|2010-03-01 00:00:00|\n",
      "|13.86|2010-04-01 00:00:00|\n",
      "| 3.96|2010-05-01 00:00:00|\n",
      "|12.87|2010-06-01 00:00:00|\n",
      "|23.76|2010-07-01 00:00:00|\n",
      "| 6.93|2010-08-01 00:00:00|\n",
      "+-----+-------------------+\n",
      "only showing top 20 rows\n",
      "\n"
     ]
    }
   ],
   "source": [
    "df_pyspark.select('Sales','date').show()"
   ]
  },
  {
   "cell_type": "code",
   "execution_count": 42,
   "id": "420f78e4",
   "metadata": {},
   "outputs": [
    {
     "data": {
      "text/plain": [
       "Column<'Sales'>"
      ]
     },
     "execution_count": 42,
     "metadata": {},
     "output_type": "execute_result"
    }
   ],
   "source": [
    "df_pyspark['Sales']"
   ]
  },
  {
   "cell_type": "code",
   "execution_count": 43,
   "id": "5a1ef2d6",
   "metadata": {},
   "outputs": [
    {
     "data": {
      "text/plain": [
       "[('Sales', 'double'), ('date', 'timestamp'), ('genre', 'string')]"
      ]
     },
     "execution_count": 43,
     "metadata": {},
     "output_type": "execute_result"
    }
   ],
   "source": [
    "df_pyspark.dtypes"
   ]
  },
  {
   "cell_type": "code",
   "execution_count": 44,
   "id": "2ad554df",
   "metadata": {},
   "outputs": [
    {
     "name": "stdout",
     "output_type": "stream",
     "text": [
      "+-------+-----------------+-----+\n",
      "|summary|            Sales|genre|\n",
      "+-------+-----------------+-----+\n",
      "|  count|               60|   60|\n",
      "|   mean|          13.7775| null|\n",
      "| stddev|7.298446926735362| null|\n",
      "|    min|             1.98| Rock|\n",
      "|    max|             29.7| Rock|\n",
      "+-------+-----------------+-----+\n",
      "\n"
     ]
    }
   ],
   "source": [
    "df_pyspark.describe().show()"
   ]
  },
  {
   "cell_type": "code",
   "execution_count": 45,
   "id": "842aaf12",
   "metadata": {},
   "outputs": [],
   "source": [
    "#adding a new column\n",
    "df_pyspark = df_pyspark.withColumn('Sales 2 Times',df_pyspark['Sales']*2)"
   ]
  },
  {
   "cell_type": "code",
   "execution_count": 46,
   "id": "1c71b5d5",
   "metadata": {},
   "outputs": [
    {
     "name": "stdout",
     "output_type": "stream",
     "text": [
      "+-----+-------------------+-----+-------------+\n",
      "|Sales|               date|genre|Sales 2 Times|\n",
      "+-----+-------------------+-----+-------------+\n",
      "|16.83|2009-01-01 00:00:00| Rock|        33.66|\n",
      "| 6.93|2009-02-01 00:00:00| Rock|        13.86|\n",
      "| 8.91|2009-03-01 00:00:00| Rock|        17.82|\n",
      "|21.78|2009-04-01 00:00:00| Rock|        43.56|\n",
      "| 7.92|2009-05-01 00:00:00| Rock|        15.84|\n",
      "|15.84|2009-06-01 00:00:00| Rock|        31.68|\n",
      "|18.81|2009-07-01 00:00:00| Rock|        37.62|\n",
      "| 19.8|2009-08-01 00:00:00| Rock|         39.6|\n",
      "| 4.95|2009-09-01 00:00:00| Rock|          9.9|\n",
      "| 19.8|2009-10-01 00:00:00| Rock|         39.6|\n",
      "|18.81|2009-11-01 00:00:00| Rock|        37.62|\n",
      "|17.82|2009-12-01 00:00:00| Rock|        35.64|\n",
      "|  9.9|2010-01-01 00:00:00| Rock|         19.8|\n",
      "|20.79|2010-02-01 00:00:00| Rock|        41.58|\n",
      "| 4.95|2010-03-01 00:00:00| Rock|          9.9|\n",
      "|13.86|2010-04-01 00:00:00| Rock|        27.72|\n",
      "| 3.96|2010-05-01 00:00:00| Rock|         7.92|\n",
      "|12.87|2010-06-01 00:00:00| Rock|        25.74|\n",
      "|23.76|2010-07-01 00:00:00| Rock|        47.52|\n",
      "| 6.93|2010-08-01 00:00:00| Rock|        13.86|\n",
      "+-----+-------------------+-----+-------------+\n",
      "only showing top 20 rows\n",
      "\n"
     ]
    }
   ],
   "source": [
    "df_pyspark.show()"
   ]
  },
  {
   "cell_type": "code",
   "execution_count": 47,
   "id": "4b16b2e8",
   "metadata": {},
   "outputs": [],
   "source": [
    "# drop columns \n",
    "df_pyspark = df_pyspark.drop('Sales 2 Times')"
   ]
  },
  {
   "cell_type": "code",
   "execution_count": 48,
   "id": "f5c9c40a",
   "metadata": {},
   "outputs": [
    {
     "name": "stdout",
     "output_type": "stream",
     "text": [
      "+--------+-------------------+-----+\n",
      "|My Sales|               date|genre|\n",
      "+--------+-------------------+-----+\n",
      "|   16.83|2009-01-01 00:00:00| Rock|\n",
      "|    6.93|2009-02-01 00:00:00| Rock|\n",
      "|    8.91|2009-03-01 00:00:00| Rock|\n",
      "|   21.78|2009-04-01 00:00:00| Rock|\n",
      "|    7.92|2009-05-01 00:00:00| Rock|\n",
      "|   15.84|2009-06-01 00:00:00| Rock|\n",
      "|   18.81|2009-07-01 00:00:00| Rock|\n",
      "|    19.8|2009-08-01 00:00:00| Rock|\n",
      "|    4.95|2009-09-01 00:00:00| Rock|\n",
      "|    19.8|2009-10-01 00:00:00| Rock|\n",
      "|   18.81|2009-11-01 00:00:00| Rock|\n",
      "|   17.82|2009-12-01 00:00:00| Rock|\n",
      "|     9.9|2010-01-01 00:00:00| Rock|\n",
      "|   20.79|2010-02-01 00:00:00| Rock|\n",
      "|    4.95|2010-03-01 00:00:00| Rock|\n",
      "|   13.86|2010-04-01 00:00:00| Rock|\n",
      "|    3.96|2010-05-01 00:00:00| Rock|\n",
      "|   12.87|2010-06-01 00:00:00| Rock|\n",
      "|   23.76|2010-07-01 00:00:00| Rock|\n",
      "|    6.93|2010-08-01 00:00:00| Rock|\n",
      "+--------+-------------------+-----+\n",
      "only showing top 20 rows\n",
      "\n"
     ]
    }
   ],
   "source": [
    "# Rename Column\n",
    "df_pyspark.withColumnRenamed('Sales','My Sales').show()"
   ]
  },
  {
   "cell_type": "code",
   "execution_count": null,
   "id": "0875bc21",
   "metadata": {},
   "outputs": [],
   "source": []
  }
 ],
 "metadata": {
  "kernelspec": {
   "display_name": "Python 3 (ipykernel)",
   "language": "python",
   "name": "python3"
  },
  "language_info": {
   "codemirror_mode": {
    "name": "ipython",
    "version": 3
   },
   "file_extension": ".py",
   "mimetype": "text/x-python",
   "name": "python",
   "nbconvert_exporter": "python",
   "pygments_lexer": "ipython3",
   "version": "3.9.7"
  }
 },
 "nbformat": 4,
 "nbformat_minor": 5
}
